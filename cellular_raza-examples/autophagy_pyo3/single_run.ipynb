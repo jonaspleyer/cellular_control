{
 "cells": [
  {
   "cell_type": "markdown",
   "metadata": {},
   "source": [
    "## Import Autophagy Package"
   ]
  },
  {
   "cell_type": "code",
   "execution_count": 10,
   "metadata": {},
   "outputs": [],
   "source": [
    "import importlib\n",
    "import autophagy\n",
    "importlib.reload(autophagy)\n",
    "from autophagy import *"
   ]
  },
  {
   "cell_type": "markdown",
   "metadata": {},
   "source": [
    "## Define Simulation Settings"
   ]
  },
  {
   "cell_type": "code",
   "execution_count": 11,
   "metadata": {},
   "outputs": [
    {
     "name": "stdout",
     "output_type": "stream",
     "text": [
      "SimulationSettings {\n",
      "    n_cells_cargo: 1,\n",
      "    n_cells_r11: 500,\n",
      "    cell_dampening: 1.0,\n",
      "    cell_radius_cargo: 10.0,\n",
      "    cell_radius_r11: 1.0,\n",
      "    cell_mechanics_interaction_range_cargo: 3.0,\n",
      "    cell_mechanics_interaction_range_r11: 1.0,\n",
      "    cell_mechanics_random_travel_velocity: 0.025,\n",
      "    cell_mechanics_random_update_time: 50.0,\n",
      "    cell_mechanics_potential_strength: 0.5,\n",
      "    cell_mechanics_relative_clustering_strength: 0.03,\n",
      "    dt: 0.25,\n",
      "    n_times: 20001,\n",
      "    save_interval: 50,\n",
      "    n_threads: 6,\n",
      "    domain_size: 50.0,\n",
      "    storage_name: \"out/autophagy\",\n",
      "    show_progressbar: true,\n",
      "}\n"
     ]
    }
   ],
   "source": [
    "simulation_settings = SimulationSettings()\n",
    "simulation_settings.n_times=20_001\n",
    "simulation_settings.save_interval=50\n",
    "simulation_settings.domain_size=50\n",
    "simulation_settings.cell_mechanics_random_travel_velocity=0.025\n",
    "simulation_settings.cell_mechanics_potential_strength=0.5\n",
    "simulation_settings.n_threads=6\n",
    "print(simulation_settings)"
   ]
  },
  {
   "cell_type": "markdown",
   "metadata": {},
   "source": [
    "## Actually run the Simulation"
   ]
  },
  {
   "cell_type": "code",
   "execution_count": 12,
   "metadata": {},
   "outputs": [
    {
     "name": "stdout",
     "output_type": "stream",
     "text": [
      "Running Simulation\n"
     ]
    }
   ],
   "source": [
    "output_path = run_simulation(simulation_settings)\n",
    "# output_path = \"out/autophagy/2023-10-31-00:19:21/\""
   ]
  },
  {
   "cell_type": "markdown",
   "metadata": {},
   "source": [
    "## Read results from json Files"
   ]
  },
  {
   "cell_type": "code",
   "execution_count": 13,
   "metadata": {},
   "outputs": [],
   "source": [
    "import os\n",
    "from pathlib import Path\n",
    "import json\n",
    "\n",
    "def combine_batches(run_directory):\n",
    "    combined_batch = []\n",
    "    for batch_file in os.listdir(run_directory):\n",
    "        f = open(run_directory / batch_file)\n",
    "        b = json.load(f)[\"data\"]\n",
    "        combined_batch.extend(b)\n",
    "    return combined_batch\n",
    "\n",
    "def get_cells_at_iterations(output_path):\n",
    "    dir = Path(output_path) / \"cell_storage/json/\"\n",
    "    runs = [(x, dir / x) for x in os.listdir(dir)]\n",
    "    result = []\n",
    "    for (n_run, run_directory) in runs:\n",
    "        result.extend([{\"iteration\":int(n_run)} | c for c in combine_batches(run_directory)])\n",
    "    return result\n",
    "\n",
    "cells_at_iter = get_cells_at_iterations(output_path)"
   ]
  },
  {
   "cell_type": "code",
   "execution_count": 14,
   "metadata": {},
   "outputs": [
    {
     "name": "stdout",
     "output_type": "stream",
     "text": [
      "iteration\n",
      "identifier\n",
      "element.id\n",
      "element.parent_id\n",
      "element.cell.mechanics.pos\n",
      "element.cell.mechanics.vel\n",
      "element.cell.mechanics.dampening_constant\n",
      "element.cell.mechanics.mass\n",
      "element.cell.mechanics.random_travel_velocity\n",
      "element.cell.mechanics.random_direction_travel\n",
      "element.cell.mechanics.random_update_time\n",
      "element.cell.interaction.species\n",
      "element.cell.interaction.cell_radius\n",
      "element.cell.interaction.potential_strength\n",
      "element.cell.interaction.interaction_range\n",
      "element.cell.interaction.clustering_strength\n"
     ]
    }
   ],
   "source": [
    "import pandas as pd\n",
    "\n",
    "df = pd.json_normalize(cells_at_iter)\n",
    "for col in df.columns:\n",
    "    print(col)"
   ]
  },
  {
   "cell_type": "markdown",
   "metadata": {},
   "source": [
    "## Plot Result"
   ]
  },
  {
   "cell_type": "code",
   "execution_count": 15,
   "metadata": {},
   "outputs": [],
   "source": [
    "import pyvista as pv\n",
    "import numpy as np\n",
    "import multiprocessing as mp\n",
    "\n",
    "def generate_snapshot(df, iteration, odir=Path(\".\")):\n",
    "    df_filtered = df[df[\"iteration\"]==iteration]\n",
    "\n",
    "    pset = pv.PolyData(np.array([np.array(x) for x in df_filtered[\"element.cell.mechanics.pos\"]]))\n",
    "\n",
    "    pset.point_data[\"diameter\"] = 2.0*df_filtered[\"element.cell.interaction.cell_radius\"]\n",
    "    pset.point_data[\"species\"] = df_filtered[\"element.cell.interaction.species\"]\n",
    "\n",
    "    sphere = pv.Sphere()\n",
    "    spheres = pset.glyph(geom=sphere, scale=\"diameter\", orient=False)\n",
    "\n",
    "    plotter = pv.Plotter()\n",
    "    \n",
    "    spheres.plot(\n",
    "        off_screen=True,\n",
    "        screenshot=odir / \"snapshot_{:08}.png\".format(iteration),\n",
    "        scalars=\"species\",\n",
    "        scalar_bar_args={\n",
    "            \"title\":\"Species\",\n",
    "        },\n",
    "        cpos=[\n",
    "            (\n",
    "                -1.5*simulation_settings.domain_size,\n",
    "                -1.5*simulation_settings.domain_size,\n",
    "                -1.5*simulation_settings.domain_size\n",
    "            ),(\n",
    "                50,\n",
    "                50,\n",
    "                50\n",
    "            ),(\n",
    "                0.0,\n",
    "                0.0,\n",
    "                0.0\n",
    "            )\n",
    "        ],\n",
    "        jupyter_backend='none',\n",
    "    )\n",
    "\n",
    "def save_snapshot(iteration):\n",
    "    generate_snapshot(df, iteration, odir=Path(output_path))\n",
    "\n",
    "with mp.Pool() as p:\n",
    "    p.map(save_snapshot, np.unique(df[\"iteration\"]))\n"
   ]
  }
 ],
 "metadata": {
  "kernelspec": {
   "display_name": "Python 3",
   "language": "python",
   "name": "python3"
  },
  "language_info": {
   "codemirror_mode": {
    "name": "ipython",
    "version": 3
   },
   "file_extension": ".py",
   "mimetype": "text/x-python",
   "name": "python",
   "nbconvert_exporter": "python",
   "pygments_lexer": "ipython3",
   "version": "3.11.5"
  }
 },
 "nbformat": 4,
 "nbformat_minor": 2
}
