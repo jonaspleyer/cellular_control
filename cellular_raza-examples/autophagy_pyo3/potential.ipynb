{
 "cells": [
  {
   "cell_type": "code",
   "execution_count": null,
   "metadata": {},
   "outputs": [],
   "source": [
    "import matplotlib.pyplot as plt\n",
    "import numpy as np\n",
    "import scipy as sp"
   ]
  },
  {
   "cell_type": "markdown",
   "metadata": {},
   "source": [
    "## Overall Shape"
   ]
  },
  {
   "cell_type": "code",
   "execution_count": null,
   "metadata": {},
   "outputs": [],
   "source": [
    "def lennard_jones(x, epsilon, sigma, bound, cutoff):\n",
    "    s = 4*epsilon*(12*(sigma/x)**11 - 6*(sigma/x)**5)\n",
    "    q = x<=cutoff\n",
    "    return q * np.minimum(s, [bound])\n",
    "\n",
    "def stepwise(x, attracting, repelling, sigma, interaction_range, cutoff):\n",
    "    return (repelling*(x<=sigma) - attracting*(sigma<x))*(x<=cutoff)\n",
    "\n",
    "sigma = 1.0\n",
    "epsilon = 1.0\n",
    "bound = 1.515\n",
    "cutoff = 2.5\n",
    "\n",
    "import scipy as sp\n",
    "xdata = [0, sigma, 2*sigma, cutoff]\n",
    "ydata = [bound, 0, -epsilon, 0]\n",
    "fit_func = lambda x, a0, a2, a3, a4: a0 + a2*x**2 + a3*x**3 + a4*x**4\n",
    "fit_params, _ = sp.optimize.curve_fit(fit_func, xdata, ydata)\n",
    "\n",
    "fig, ax = plt.subplots()\n",
    "x = np.linspace(0.001, 3.5*sigma, 200)\n",
    "y1 = lennard_jones(x, epsilon, sigma, bound, cutoff)\n",
    "y3 = stepwise(x, epsilon, epsilon, sigma, bound, cutoff)\n",
    "y2 = fit_func(x, *fit_params)\n",
    "\n",
    "ax.plot(x, y1, label=\"Lennard-Jones\")\n",
    "ax.plot(x, y2, label=\"Fit\")\n",
    "ax.plot(x, y3, label=\"Linear Jones\")\n",
    "\n",
    "plt.show(fig)"
   ]
  },
  {
   "cell_type": "markdown",
   "metadata": {},
   "source": [
    "## Neighbors"
   ]
  },
  {
   "cell_type": "code",
   "execution_count": null,
   "metadata": {},
   "outputs": [],
   "source": [
    "def func(x):\n",
    "    n = 6\n",
    "    alpha = 4\n",
    "    s = (x/alpha)**n/(1+(x/alpha)**n)\n",
    "    return s\n",
    "\n",
    "x1 = np.linspace(0, 8)\n",
    "x2 = np.arange(0, 8)\n",
    "y1 = func(x1)\n",
    "y2 = func(x2)\n",
    "\n",
    "fig, ax = plt.subplots()\n",
    "ax.plot(x1, y1)\n",
    "ax.scatter(x2, y2)\n",
    "plt.show(fig)"
   ]
  },
  {
   "cell_type": "code",
   "execution_count": null,
   "metadata": {},
   "outputs": [],
   "source": [
    "def calculate_potential_1(r, potential_strength, repelling_strength, cell_radius, ext_radius, interaction_range):\n",
    "    sigma = r / (cell_radius + ext_radius)\n",
    "    bound = 1.0 / (1.0 + sigma**3)\n",
    "    spatial_cutoff = np.heaviside(1.0 + (interaction_range + cell_radius + ext_radius - r), 0)\n",
    "\n",
    "    # Calculate the strength of the interaction with correct bounds\n",
    "    strength_relative = np.clip((1.0 / sigma)**4 - 2*(1.0 / sigma)**2, -1, bound)\n",
    "    attractive_force = np.clip(strength_relative, -np.infty, 0.0)\n",
    "    repelling_force = np.clip(strength_relative, 0.0, np.infty)\n",
    "    return spatial_cutoff * (potential_strength*attractive_force + repelling_strength * repelling_force)\n",
    "\n",
    "def calculate_potential_2(r, potential_strength, cell_radius, ext_radius, interaction_range):\n",
    "    sigma = r / (cell_radius + ext_radius)\n",
    "    bound = 4.0 + 1.0 / sigma\n",
    "    spatial_cutoff = np.sign(1.0 + (interaction_range + cell_radius + ext_radius - r)) * 0.5\n",
    "\n",
    "    # Calculate the strength of the interaction with correct bounds\n",
    "    strength_relative = np.clip((1.0 / sigma)**2 - (1.0 / sigma)**4, -bound, bound)\n",
    "    # attractive_force = np.clip(strength_relative, -np.infty, 0.0)\n",
    "    # repelling_force = np.clip(strength_relative, 0.0, np.infty)\n",
    "    return - potential_strength * strength_relative * spatial_cutoff\n",
    "\n",
    "cell_radius = 1.0\n",
    "interaction_range = 0.8\n",
    "ext_radius = 1.0\n",
    "potential_strength = 0.003\n",
    "repelling_strength = 0.035\n",
    "\n",
    "x = np.linspace(0.1, 2*(cell_radius + interaction_range + ext_radius), 200)\n",
    "y1 = calculate_potential_1(x, potential_strength, repelling_strength, cell_radius, ext_radius, interaction_range)\n",
    "y2 = calculate_potential_2(x, 0.01, cell_radius, ext_radius, interaction_range)\n",
    "\n",
    "fig, ax = plt.subplots()\n",
    "ax.plot(x, y1, label=\"Relative Potential Strength 1\", color=\"black\")\n",
    "ax.plot(x, y2, label=\"Relative Potential Strength 2\", color=\"red\")\n",
    "ax.legend()\n",
    "plt.show(fig)"
   ]
  }
 ],
 "metadata": {
  "kernelspec": {
   "display_name": ".venv",
   "language": "python",
   "name": "python3"
  },
  "language_info": {
   "codemirror_mode": {
    "name": "ipython",
    "version": 3
   },
   "file_extension": ".py",
   "mimetype": "text/x-python",
   "name": "python",
   "nbconvert_exporter": "python",
   "pygments_lexer": "ipython3",
   "version": "3.11.5"
  }
 },
 "nbformat": 4,
 "nbformat_minor": 2
}
