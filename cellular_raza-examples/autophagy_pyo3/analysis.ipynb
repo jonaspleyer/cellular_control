{
 "cells": [
  {
   "cell_type": "markdown",
   "metadata": {},
   "source": [
    "## Import Autophagy Package"
   ]
  },
  {
   "cell_type": "code",
   "execution_count": null,
   "metadata": {},
   "outputs": [],
   "source": [
    "# Specific imports for cellular_raza\n",
    "# The package is named cr_autophagy\n",
    "# We want to reload the package when some of the behind-the scenes python functions change\n",
    "# This is what the importlib statements are for\n",
    "import importlib\n",
    "import cr_autophagy as cra\n",
    "importlib.reload(cra)\n",
    "\n",
    "# Imports of general-purpose python libraries\n",
    "import numpy as np\n",
    "import matplotlib.pyplot as plt\n",
    "import scipy as sp\n",
    "import pyvista as pv\n",
    "import multiprocessing as mp\n",
    "from pathlib import Path\n",
    "import os\n",
    "\n",
    "output_path = cra.get_last_output_path()\n",
    "simulation_settings = cra.get_simulation_settings(output_path)\n",
    "iter_0_particles = cra.get_particles_at_iter(output_path, 0)\n",
    "for col in iter_0_particles.columns:\n",
    "    print(col)\n",
    "max_iter = max(cra.get_all_iterations(output_path))"
   ]
  },
  {
   "cell_type": "markdown",
   "metadata": {},
   "source": [
    "## Read results from json Files\n",
    "The results of the simulation are saved in json files.\n",
    "Due to the parallelized nature of the simulation, not all results are in one big json file but rather in multiple batches. We therefore need to combine these batches to obtain a complete set for a given iteration."
   ]
  },
  {
   "cell_type": "markdown",
   "metadata": {},
   "source": [
    "We want to inspect which entries our generated dataset has. Therefore, we normalize the dict, transforming it into a dataframe.\n",
    "Afterwards, we display all columns."
   ]
  },
  {
   "cell_type": "markdown",
   "metadata": {},
   "source": [
    "## Analysis\n",
    "1. Determine how the Cargo size changes over the course of the simulation\n",
    "2. Determine if ATG11Receptor actually clusters"
   ]
  },
  {
   "cell_type": "code",
   "execution_count": null,
   "metadata": {},
   "outputs": [],
   "source": [
    "df = cra.get_particles_at_iter(output_path, max_iter)\n",
    "\n",
    "cargo_at_end = df[df[\"element.cell.interaction.species\"]==\"Cargo\"][\"element.cell.mechanics.mechanics.pos\"]\n",
    "cargo_at_end = np.array([np.array(elem) for elem in cargo_at_end])\n",
    "non_cargo_at_end = df[df[\"element.cell.interaction.species\"]!=\"Cargo\"][\"element.cell.mechanics.mechanics.pos\"]\n",
    "non_cargo_at_end = np.array([np.array(elem) for elem in non_cargo_at_end])"
   ]
  },
  {
   "cell_type": "code",
   "execution_count": null,
   "metadata": {},
   "outputs": [],
   "source": [
    "# Save all scatter snapshots\n",
    "cra.save_all_scatter_snapshots(output_path, threads=-1)\n",
    "\n",
    "# Also create a movie with ffmpeg\n",
    "bashcmd = f\"ffmpeg -y -r 30 -f image2 -pattern_type glob -i '{output_path}/scatterplots/*.png' -c:v h264 -pix_fmt yuv420p -strict -2 {output_path}/scatter_movie.mp4\"\n",
    "os.system(bashcmd)"
   ]
  },
  {
   "cell_type": "markdown",
   "metadata": {},
   "source": [
    "## Plot Result\n",
    "We visualize the results in 3D.\n",
    "Therefore we use `pyvista` which internally uses `vtk` as a backend.\n",
    "Since all of our particles are represented as 3D-spheres, we also display them as such."
   ]
  },
  {
   "cell_type": "markdown",
   "metadata": {},
   "source": [
    "We can save single snapshots or even use all processes of our device to save snapshots for every iteration.\n",
    "The 2nd approach will take up all resources by default. If you want to limit this, have a look at the [Pool object of the multiprocessing](https://docs.python.org/3/library/multiprocessing.html#multiprocessing.pool.Pool) module."
   ]
  },
  {
   "cell_type": "code",
   "execution_count": null,
   "metadata": {},
   "outputs": [],
   "source": [
    "# Save all snapshots\n",
    "cra.save_all_snapshots(output_path, threads=-1)\n",
    "\n",
    "# Also create a movie with ffmpeg\n",
    "bashcmd = f\"ffmpeg -y -r 30 -f image2 -pattern_type glob -i '{output_path}/snapshots/*.png' -c:v h264 -pix_fmt yuv420p -strict -2 {output_path}/snapshot_movie.mp4\"\n",
    "os.system(bashcmd)"
   ]
  }
 ],
 "metadata": {
  "kernelspec": {
   "display_name": "Python 3 (ipykernel)",
   "language": "python",
   "name": "python3"
  },
  "language_info": {
   "codemirror_mode": {
    "name": "ipython",
    "version": 3
   },
   "file_extension": ".py",
   "mimetype": "text/x-python",
   "name": "python",
   "nbconvert_exporter": "python",
   "pygments_lexer": "ipython3",
   "version": "3.11.5"
  }
 },
 "nbformat": 4,
 "nbformat_minor": 4
}
