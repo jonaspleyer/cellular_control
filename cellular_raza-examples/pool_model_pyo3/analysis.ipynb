{
 "cells": [
  {
   "cell_type": "markdown",
   "metadata": {},
   "source": [
    "## Get Results from old simulation\n",
    "To run a new simulation, execute the `run_sim.py` script.\n",
    "If the command below fails, you probably need to run a new simulation to generate data."
   ]
  },
  {
   "cell_type": "code",
   "execution_count": null,
   "metadata": {},
   "outputs": [],
   "source": [
    "# Specific imports for cellular_raza\n",
    "# The package is named cr_autophagy\n",
    "# We want to reload the package when some of the behind-the scenes python functions change\n",
    "# This is what the importlib statements are for\n",
    "import importlib\n",
    "import cr_pool_model as crp\n",
    "importlib.reload(crp)\n",
    "\n",
    "# Imports of general-purpose python libraries\n",
    "import numpy as np\n",
    "import matplotlib.pyplot as plt\n",
    "import scipy as sp\n",
    "import pyvista as pv\n",
    "import multiprocessing as mp\n",
    "from pathlib import Path\n",
    "import os\n",
    "import tqdm\n",
    "\n",
    "output_path = crp.get_last_output_path()\n",
    "# output_path = Path(\"out/pool_model/2023-11-24-18:05:41\")\n",
    "simulation_settings = crp.get_simulation_settings(output_path)\n",
    "max_iter = max(crp.get_all_iterations(output_path))"
   ]
  },
  {
   "cell_type": "code",
   "execution_count": null,
   "metadata": {},
   "outputs": [],
   "source": [
    "iter_0_particles = crp.get_elements_at_iter(output_path, 0)\n",
    "print(\"Name\".ljust(62), \"Type\")\n",
    "print(\"⎯\"*80)\n",
    "for ty, col in zip(iter_0_particles.dtypes, iter_0_particles.columns):\n",
    "    print(\"{}\".format(col).ljust(62), \"{}\".format(ty))"
   ]
  },
  {
   "cell_type": "code",
   "execution_count": null,
   "metadata": {},
   "outputs": [],
   "source": [
    "iter_0_voxels = crp.get_elements_at_iter(output_path, 0, element_path=\"voxel_storage\")\n",
    "print(\"Name\".ljust(62), \"Type\")\n",
    "print(\"⎯\"*80)\n",
    "for ty, col in zip(iter_0_voxels.dtypes, iter_0_voxels.columns):\n",
    "    print(\"{}\".format(col).ljust(62), \"{}\".format(ty))"
   ]
  },
  {
   "cell_type": "markdown",
   "metadata": {},
   "source": [
    "## Read results from json Files\n",
    "The results of the simulation are saved in json files.\n",
    "Due to the parallelized nature of the simulation, not all results are in one big json file but rather in multiple batches. We therefore need to combine these batches to obtain a complete set for a given iteration."
   ]
  },
  {
   "cell_type": "code",
   "execution_count": null,
   "metadata": {},
   "outputs": [],
   "source": [
    "df_cells = crp.get_elements_at_all_iterations(output_path, threads=10)\n",
    "df_voxels = crp.get_elements_at_all_iterations(output_path, element_path=\"voxel_storage\", threads=10)"
   ]
  },
  {
   "cell_type": "markdown",
   "metadata": {},
   "source": [
    "We want to inspect which entries our generated dataset has. Therefore, we normalize the dict, transforming it into a dataframe.\n",
    "Afterwards, we display all columns."
   ]
  },
  {
   "cell_type": "markdown",
   "metadata": {},
   "source": [
    "## Plot Colony\n",
    "We plot the bacterial colony using `matplotlib`. All particles are represented by 2D spheres and so we can display them as such."
   ]
  },
  {
   "cell_type": "code",
   "execution_count": null,
   "metadata": {},
   "outputs": [],
   "source": [
    "all_iterations = crp.get_all_iterations(output_path)\n",
    "\n",
    "def calculate_total_nutrients_voxels(entry):\n",
    "    mi = np.array([x for x in entry[\"element.voxel.min\"]])\n",
    "    ma = np.array([x for x in entry[\"element.voxel.max\"]])\n",
    "    diff = (ma-mi)**2\n",
    "    conc = entry[\"element.voxel.extracellular_concentrations\"]\n",
    "    return np.sum(np.product(diff, axis=1) * conc)[0]\n",
    "\n",
    "def calculate_total_nutrients_cells(entry):\n",
    "    volume = np.pi*np.array([x for x in entry[\"element.cell.interaction.cell_radius\"]])**2\n",
    "    conc = entry[\"element.cell.cellular_reactions.intracellular_concentrations\"][0]\n",
    "    return np.sum(volume * conc)\n",
    "\n",
    "total_nutrients_voxels = df_voxels.groupby(\"iteration\").apply(calculate_total_nutrients_voxels)\n",
    "total_nutrients_cells = df_cells.groupby(\"iteration\").apply(calculate_total_nutrients_cells)\n",
    "bacteria_count = df_cells.groupby(\"iteration\").size()"
   ]
  },
  {
   "cell_type": "code",
   "execution_count": null,
   "metadata": {},
   "outputs": [],
   "source": [
    "fig, ax1 = plt.subplots()\n",
    "\n",
    "ax1.set_ylabel(\"Nutrient Amount\")\n",
    "ax1.plot(total_nutrients_voxels, label=\"Extracellular\", color=\"black\")\n",
    "ax1.plot(total_nutrients_cells, label=\"Intracellular\")\n",
    "\n",
    "ax2 = ax1.twinx()\n",
    "ax2.plot(bacteria_count, label=\"Bacteria Count\", color=\"green\")\n",
    "ax2.set_ylabel(\"Bacteria Count\")\n",
    "\n",
    "ax1.legend(loc=\"upper left\")\n",
    "ax2.legend(loc=\"upper right\")\n",
    "plt.show(fig)"
   ]
  },
  {
   "cell_type": "markdown",
   "metadata": {},
   "source": [
    "## Cells transitioning from lack-phase"
   ]
  },
  {
   "cell_type": "code",
   "execution_count": null,
   "metadata": {},
   "outputs": [],
   "source": [
    "cells_in_lack_phase = df_cells[df_cells[\"element.cell.cellular_reactions.lack_phase_active\"]==True].groupby(\"iteration\").size()\n",
    "\n",
    "fig, ax = plt.subplots()\n",
    "ax.plot(cells_in_lack_phase, label=\"Cells in Lack-Phase\", color=\"green\")\n",
    "ax.legend()\n",
    "ax.set_xlabel(\"Iteration\")\n",
    "ax.set_ylabel(\"Cells\")\n",
    "plt.show(fig)"
   ]
  },
  {
   "cell_type": "markdown",
   "metadata": {},
   "source": [
    "## Generate Screenshots for every Iteration"
   ]
  },
  {
   "cell_type": "code",
   "execution_count": null,
   "metadata": {},
   "outputs": [],
   "source": [
    "import matplotlib\n",
    "from matplotlib import pyplot as plt\n",
    "\n",
    "simulation_settings = crp.get_simulation_settings(output_path)\n",
    "\n",
    "def save_snapshot(iteration):\n",
    "    save_path = Path(output_path) / \"snapshot_{:08}.png\".format(iteration)\n",
    "    if os.path.isfile(save_path):\n",
    "        return None\n",
    "\n",
    "    # Filter for only particles at the specified iteration\n",
    "    df_cells_filtered = df_cells[df_cells[\"iteration\"]==iteration]\n",
    "\n",
    "    # Get positions as large numpy array\n",
    "    positions = np.array([np.array(x) for x in df_cells_filtered[\"element.cell.mechanics.pos\"]])\n",
    "    s = np.array([np.array(x) for x in df_cells_filtered[\"element.cell.interaction.cell_radius\"]])\n",
    "    c = np.array([np.array(x) for x in df_cells_filtered[\"element.cell.cellular_reactions.intracellular_concentrations\"]])\n",
    "    norm = matplotlib.colors.Normalize(\n",
    "        vmin=c.min(),\n",
    "        vmax=c.max(),\n",
    "        clip=True,\n",
    "    )\n",
    "    mapper = matplotlib.cm.ScalarMappable(norm=norm, cmap=matplotlib.cm.summer)\n",
    "    c = [mapper.to_rgba(ci) if not ci[0]==None else \"red\" for ci in c]\n",
    "\n",
    "    xlims = np.array([0.0, simulation_settings.domain_size])\n",
    "    ylims = np.array([0.0, simulation_settings.domain_size])\n",
    "\n",
    "    figsize = (16, 16)\n",
    "    fig, ax = plt.subplots(figsize=figsize)\n",
    "\n",
    "    # Plot rectangles for background\n",
    "    # Create color mapper for background\n",
    "    nutrients_min = np.nanmin(df_voxels[\"element.voxel.extracellular_concentrations\"])[0]\n",
    "    norm2 = matplotlib.colors.Normalize(vmin=nutrients_min, vmax=simulation_settings.voxel_food_initial_concentration, clip=True)\n",
    "    mapper2 = matplotlib.cm.ScalarMappable(norm=norm2, cmap=matplotlib.cm.gray)\n",
    "\n",
    "    def plot_rectangle(entry):\n",
    "        x_min = entry[\"element.voxel.min\"]\n",
    "        x_max = entry[\"element.voxel.max\"]\n",
    "        conc = entry[\"element.voxel.extracellular_concentrations\"][0]\n",
    "\n",
    "        xy = [x_min[0], x_min[1]]\n",
    "        dx = x_max[0] - x_min[0]\n",
    "        dy = x_max[1] - x_min[1]\n",
    "        color = mapper2.to_rgba(conc) if not np.isnan(conc) else \"red\"\n",
    "        rectangle = matplotlib.patches.Rectangle(xy, width=dy, height=dy, color=color)\n",
    "        ax.add_patch(rectangle)\n",
    "\n",
    "    df_voxels[df_voxels[\"iteration\"]==iteration].apply(plot_rectangle, axis=1)\n",
    "\n",
    "    # Plot circles for bacteria\n",
    "    for pos, si, ci in zip(positions, s, c):\n",
    "        if si==None:\n",
    "            si = 0\n",
    "        circle = plt.Circle(pos, radius=si, facecolor=ci, edgecolor='k')\n",
    "        ax.add_patch(circle)\n",
    "\n",
    "    ax.set_xlim(xlims)\n",
    "    ax.set_ylim(ylims)\n",
    "\n",
    "    fig.tight_layout()\n",
    "\n",
    "    fig.savefig(save_path)\n",
    "    plt.close(fig)\n",
    "\n",
    "with mp.Pool() as p:\n",
    "    _ = list(tqdm.tqdm(mp.Pool().imap(save_snapshot, all_iterations), total=len(all_iterations)))"
   ]
  },
  {
   "cell_type": "code",
   "execution_count": null,
   "metadata": {},
   "outputs": [],
   "source": [
    "# Also create a movie with ffmpeg\n",
    "bashcmd = f\"ffmpeg -v quiet -stats -y -r 30 -f image2 -pattern_type glob -i '{output_path}/*.png' -c:v h264 -pix_fmt yuv420p -strict -2 {output_path}/amovie_4.mp4\"\n",
    "os.system(bashcmd)"
   ]
  }
 ],
 "metadata": {
  "kernelspec": {
   "display_name": ".venv",
   "language": "python",
   "name": "python3"
  },
  "language_info": {
   "codemirror_mode": {
    "name": "ipython",
    "version": 3
   },
   "file_extension": ".py",
   "mimetype": "text/x-python",
   "name": "python",
   "nbconvert_exporter": "python",
   "pygments_lexer": "ipython3",
   "version": "3.11.5"
  },
  "orig_nbformat": 4
 },
 "nbformat": 4,
 "nbformat_minor": 2
}
