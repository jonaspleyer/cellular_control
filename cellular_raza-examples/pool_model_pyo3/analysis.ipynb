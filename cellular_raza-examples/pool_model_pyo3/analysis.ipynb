{
 "cells": [
  {
   "cell_type": "markdown",
   "metadata": {},
   "source": [
    "## Get Results from old simulation\n",
    "To run a new simulation, execute the `run_sim.py` script.\n",
    "If the command below fails, you probably need to run a new simulation to generate data."
   ]
  },
  {
   "cell_type": "code",
   "execution_count": 299,
   "metadata": {},
   "outputs": [],
   "source": [
    "# Specific imports for cellular_raza\n",
    "# The package is named cr_autophagy\n",
    "# We want to reload the package when some of the behind-the scenes python functions change\n",
    "# This is what the importlib statements are for\n",
    "import importlib\n",
    "import cr_pool_model as crp\n",
    "importlib.reload(crp)\n",
    "\n",
    "# Imports of general-purpose python libraries\n",
    "import numpy as np\n",
    "import matplotlib.pyplot as plt\n",
    "import scipy as sp\n",
    "import pyvista as pv\n",
    "import multiprocessing as mp\n",
    "from pathlib import Path\n",
    "import os\n",
    "import tqdm\n",
    "\n",
    "output_path = crp.get_last_output_path()\n",
    "# output_path = Path(\"out/pool_model/2023-11-24-18:05:41\")\n",
    "simulation_settings = crp.get_simulation_settings(output_path)\n",
    "max_iter = max(crp.get_all_iterations(output_path))"
   ]
  },
  {
   "cell_type": "code",
   "execution_count": 300,
   "metadata": {},
   "outputs": [
    {
     "name": "stdout",
     "output_type": "stream",
     "text": [
      "Name                                                           Type\n",
      "⎯⎯⎯⎯⎯⎯⎯⎯⎯⎯⎯⎯⎯⎯⎯⎯⎯⎯⎯⎯⎯⎯⎯⎯⎯⎯⎯⎯⎯⎯⎯⎯⎯⎯⎯⎯⎯⎯⎯⎯⎯⎯⎯⎯⎯⎯⎯⎯⎯⎯⎯⎯⎯⎯⎯⎯⎯⎯⎯⎯⎯⎯⎯⎯⎯⎯⎯⎯⎯⎯⎯⎯⎯⎯⎯⎯⎯⎯⎯⎯\n",
      "identifier                                                     object\n",
      "element.id                                                     object\n",
      "element.parent_id                                              object\n",
      "element.cell.mechanics.pos                                     object\n",
      "element.cell.mechanics.vel                                     object\n",
      "element.cell.mechanics.mass                                    float64\n",
      "element.cell.mechanics.damping                                 float64\n",
      "element.cell.mechanics.kb_temperature                          float64\n",
      "element.cell.mechanics.update_interval                         int64\n",
      "element.cell.mechanics.random_vector                           object\n",
      "element.cell.interaction.potential_strength                    float64\n",
      "element.cell.interaction.relative_interaction_range            float64\n",
      "element.cell.interaction.cell_radius                           float64\n",
      "element.cell.cycle.food_consumption                            float64\n",
      "element.cell.cycle.food_to_volume_conversion                   float64\n",
      "element.cell.cycle.volume_division_threshold                   float64\n",
      "element.cell.cycle.lag_phase_active                            bool\n",
      "element.cell.cycle.lag_phase_transition_rate                   float64\n",
      "element.cell.cellular_reactions.lag_phase_active               bool\n",
      "element.cell.cellular_reactions.intracellular_concentrations   object\n",
      "element.cell.cellular_reactions.turnover_rate                  object\n",
      "element.cell.cellular_reactions.production_term                object\n",
      "element.cell.cellular_reactions.degradation_rate               object\n",
      "element.cell.cellular_reactions.secretion_rate                 object\n",
      "element.cell.cellular_reactions.uptake_rate                    object\n",
      "element.cell.interactionextracellulargradient                  object\n"
     ]
    }
   ],
   "source": [
    "iter_0_particles = crp.get_elements_at_iter(output_path, 0)\n",
    "print(\"Name\".ljust(62), \"Type\")\n",
    "print(\"⎯\"*80)\n",
    "for ty, col in zip(iter_0_particles.dtypes, iter_0_particles.columns):\n",
    "    print(\"{}\".format(col).ljust(62), \"{}\".format(ty))"
   ]
  },
  {
   "cell_type": "code",
   "execution_count": 301,
   "metadata": {},
   "outputs": [
    {
     "name": "stdout",
     "output_type": "stream",
     "text": [
      "Name                                                           Type\n",
      "⎯⎯⎯⎯⎯⎯⎯⎯⎯⎯⎯⎯⎯⎯⎯⎯⎯⎯⎯⎯⎯⎯⎯⎯⎯⎯⎯⎯⎯⎯⎯⎯⎯⎯⎯⎯⎯⎯⎯⎯⎯⎯⎯⎯⎯⎯⎯⎯⎯⎯⎯⎯⎯⎯⎯⎯⎯⎯⎯⎯⎯⎯⎯⎯⎯⎯⎯⎯⎯⎯⎯⎯⎯⎯⎯⎯⎯⎯⎯⎯\n",
      "identifier                                                     int64\n",
      "element.plain_index                                            int64\n",
      "element.index                                                  object\n",
      "element.voxel.min                                              object\n",
      "element.voxel.max                                              object\n",
      "element.voxel.middle                                           object\n",
      "element.voxel.dx                                               object\n",
      "element.voxel.index                                            object\n",
      "element.voxel.extracellular_concentrations                     object\n",
      "element.voxel.extracellular_gradient                           object\n",
      "element.voxel.diffusion_constant                               object\n",
      "element.voxel.production_rate                                  object\n",
      "element.voxel.degradation_rate                                 object\n",
      "element.voxel.domain_boundaries                                object\n",
      "element.neighbors                                              object\n",
      "element.cells                                                  object\n",
      "element.new_cells                                              object\n",
      "element.id_counter                                             int64\n",
      "element.rng.seed                                               object\n",
      "element.rng.stream                                             int64\n",
      "element.rng.word_pos                                           int64\n",
      "element.extracellular_concentration_increments                 object\n",
      "element.concentration_boundaries                               object\n"
     ]
    }
   ],
   "source": [
    "iter_0_voxels = crp.get_elements_at_iter(output_path, 0, element_path=\"voxel_storage\")\n",
    "print(\"Name\".ljust(62), \"Type\")\n",
    "print(\"⎯\"*80)\n",
    "for ty, col in zip(iter_0_voxels.dtypes, iter_0_voxels.columns):\n",
    "    print(\"{}\".format(col).ljust(62), \"{}\".format(ty))"
   ]
  },
  {
   "cell_type": "markdown",
   "metadata": {},
   "source": [
    "## Read results from json Files\n",
    "The results of the simulation are saved in json files.\n",
    "Due to the parallelized nature of the simulation, not all results are in one big json file but rather in multiple batches. We therefore need to combine these batches to obtain a complete set for a given iteration."
   ]
  },
  {
   "cell_type": "code",
   "execution_count": 302,
   "metadata": {},
   "outputs": [],
   "source": [
    "df_cells = crp.get_elements_at_all_iterations(output_path, threads=10)\n",
    "df_voxels = crp.get_elements_at_all_iterations(output_path, element_path=\"voxel_storage\", threads=10)"
   ]
  },
  {
   "cell_type": "markdown",
   "metadata": {},
   "source": [
    "We want to inspect which entries our generated dataset has. Therefore, we normalize the dict, transforming it into a dataframe.\n",
    "Afterwards, we display all columns."
   ]
  },
  {
   "cell_type": "markdown",
   "metadata": {},
   "source": [
    "## Plot Colony\n",
    "We plot the bacterial colony using `matplotlib`. All particles are represented by 2D spheres and so we can display them as such."
   ]
  },
  {
   "cell_type": "code",
   "execution_count": 303,
   "metadata": {},
   "outputs": [],
   "source": [
    "all_iterations = crp.get_all_iterations(output_path)\n",
    "\n",
    "def calculate_total_nutrients_voxels(entry):\n",
    "    mi = np.array([x for x in entry[\"element.voxel.min\"]])\n",
    "    ma = np.array([x for x in entry[\"element.voxel.max\"]])\n",
    "    diff = (ma-mi)**2\n",
    "    conc = entry[\"element.voxel.extracellular_concentrations\"]\n",
    "    return np.sum(np.product(diff, axis=1) * conc)[0]\n",
    "\n",
    "def calculate_total_nutrients_cells(entry):\n",
    "    volume = np.pi*np.array([x for x in entry[\"element.cell.interaction.cell_radius\"]])**2\n",
    "    conc = entry[\"element.cell.cellular_reactions.intracellular_concentrations\"][0]\n",
    "    return np.sum(volume * conc)\n",
    "\n",
    "total_nutrients_voxels = df_voxels.groupby(\"iteration\").apply(calculate_total_nutrients_voxels)\n",
    "total_nutrients_cells = df_cells.groupby(\"iteration\").apply(calculate_total_nutrients_cells)\n",
    "bacteria_count = df_cells.groupby(\"iteration\").size()"
   ]
  },
  {
   "cell_type": "code",
   "execution_count": 304,
   "metadata": {},
   "outputs": [
    {
     "data": {
      "image/png": "[encoded data removed]",
      "text/plain": [
       "<Figure size 640x480 with 2 Axes>"
      ]
     },
     "metadata": {},
     "output_type": "display_data"
    }
   ],
   "source": [
    "fig, ax1 = plt.subplots()\n",
    "\n",
    "ax1.set_ylabel(\"Nutrient Amount\")\n",
    "ax1.plot(total_nutrients_voxels, label=\"Extracellular\", color=\"black\")\n",
    "ax1.plot(total_nutrients_cells, label=\"Intracellular\")\n",
    "\n",
    "ax2 = ax1.twinx()\n",
    "ax2.plot(bacteria_count, label=\"Bacteria Count\", color=\"green\")\n",
    "ax2.set_ylabel(\"Bacteria Count\")\n",
    "\n",
    "ax1.legend(loc=\"upper left\")\n",
    "ax2.legend(loc=\"upper right\")\n",
    "plt.show(fig)"
   ]
  },
  {
   "cell_type": "code",
   "execution_count": 305,
   "metadata": {},
   "outputs": [
    {
     "name": "stderr",
     "output_type": "stream",
     "text": [
      "100%|██████████| 401/401 [00:16<00:00, 23.99it/s]\n"
     ]
    }
   ],
   "source": [
    "import matplotlib\n",
    "from matplotlib import pyplot as plt\n",
    "\n",
    "simulation_settings = crp.get_simulation_settings(output_path)\n",
    "\n",
    "def save_snapshot(iteration):\n",
    "    save_path = Path(output_path) / \"snapshot_{:08}.png\".format(iteration)\n",
    "    # if os.path.isfile(save_path):\n",
    "    #     return None\n",
    "\n",
    "    # Filter for only particles at the specified iteration\n",
    "    df_cells_filtered = df_cells[df_cells[\"iteration\"]==iteration]\n",
    "\n",
    "    # Get positions as large numpy array\n",
    "    positions = np.array([np.array(x) for x in df_cells_filtered[\"element.cell.mechanics.pos\"]])\n",
    "    s = np.array([np.array(x) for x in df_cells_filtered[\"element.cell.interaction.cell_radius\"]])\n",
    "    c = np.array([np.array(x) for x in df_cells_filtered[\"element.cell.cellular_reactions.intracellular_concentrations\"]])\n",
    "    norm = matplotlib.colors.Normalize(\n",
    "        vmin=c.min(),\n",
    "        vmax=c.max(),\n",
    "        clip=True,\n",
    "    )\n",
    "    mapper = matplotlib.cm.ScalarMappable(norm=norm, cmap=matplotlib.cm.summer)\n",
    "    c = [mapper.to_rgba(ci) if not ci[0]==None else \"red\" for ci in c]\n",
    "\n",
    "    xlims = np.array([0.0, simulation_settings.domain_size])\n",
    "    ylims = np.array([0.0, simulation_settings.domain_size])\n",
    "\n",
    "    figsize = (16, 16)\n",
    "    fig, ax = plt.subplots(figsize=figsize)\n",
    "\n",
    "    # Plot rectangles for background\n",
    "    # Create color mapper for background\n",
    "    nutrients_min = np.nanmin(df_voxels[\"element.voxel.extracellular_concentrations\"])[0]\n",
    "    norm2 = matplotlib.colors.Normalize(vmin=nutrients_min, vmax=simulation_settings.voxel_food_initial_concentration, clip=True)\n",
    "    mapper2 = matplotlib.cm.ScalarMappable(norm=norm2, cmap=matplotlib.cm.gray)\n",
    "\n",
    "    def plot_rectangle(entry):\n",
    "        x_min = entry[\"element.voxel.min\"]\n",
    "        x_max = entry[\"element.voxel.max\"]\n",
    "        conc = entry[\"element.voxel.extracellular_concentrations\"][0]\n",
    "\n",
    "        xy = [x_min[0], x_min[1]]\n",
    "        dx = x_max[0] - x_min[0]\n",
    "        dy = x_max[1] - x_min[1]\n",
    "        color = mapper2.to_rgba(conc) if not np.isnan(conc) else \"red\"\n",
    "        rectangle = matplotlib.patches.Rectangle(xy, width=dy, height=dy, color=color)\n",
    "        ax.add_patch(rectangle)\n",
    "\n",
    "    df_voxels[df_voxels[\"iteration\"]==iteration].apply(plot_rectangle, axis=1)\n",
    "\n",
    "    # Plot circles for bacteria\n",
    "    for pos, si, ci in zip(positions, s, c):\n",
    "        if si==None:\n",
    "            si = 0\n",
    "        circle = plt.Circle(pos, radius=si, facecolor=ci, edgecolor='k')\n",
    "        ax.add_patch(circle)\n",
    "\n",
    "    ax.set_xlim(xlims)\n",
    "    ax.set_ylim(ylims)\n",
    "\n",
    "    fig.tight_layout()\n",
    "\n",
    "    fig.savefig(save_path)\n",
    "    plt.close(fig)\n",
    "\n",
    "with mp.Pool() as p:\n",
    "    _ = list(tqdm.tqdm(mp.Pool().imap(save_snapshot, all_iterations), total=len(all_iterations)))"
   ]
  },
  {
   "cell_type": "code",
   "execution_count": 306,
   "metadata": {},
   "outputs": [
    {
     "name": "stderr",
     "output_type": "stream",
     "text": [
      "ffmpeg version n6.0 Copyright (c) 2000-2023 the FFmpeg developers\n",
      "  built with gcc 13.2.1 (GCC) 20230801\n",
      "  configuration: --prefix=/usr --disable-debug --disable-static --disable-stripping --enable-amf --enable-avisynth --enable-cuda-llvm --enable-lto --enable-fontconfig --enable-gmp --enable-gnutls --enable-gpl --enable-ladspa --enable-libaom --enable-libass --enable-libbluray --enable-libbs2b --enable-libdav1d --enable-libdrm --enable-libfreetype --enable-libfribidi --enable-libgsm --enable-libiec61883 --enable-libjack --enable-libjxl --enable-libmodplug --enable-libmp3lame --enable-libopencore_amrnb --enable-libopencore_amrwb --enable-libopenjpeg --enable-libopenmpt --enable-libopus --enable-libpulse --enable-librav1e --enable-librsvg --enable-libsoxr --enable-libspeex --enable-libsrt --enable-libssh --enable-libsvtav1 --enable-libtheora --enable-libv4l2 --enable-libvidstab --enable-libvmaf --enable-libvorbis --enable-libvpl --enable-libvpx --enable-libwebp --enable-libx264 --enable-libx265 --enable-libxcb --enable-libxml2 --enable-libxvid --enable-libzimg --enable-nvdec --enable-nvenc --enable-opencl --enable-opengl --enable-shared --enable-version3 --enable-vulkan\n",
      "  libavutil      58.  2.100 / 58.  2.100\n",
      "  libavcodec     60.  3.100 / 60.  3.100\n",
      "  libavformat    60.  3.100 / 60.  3.100\n",
      "  libavdevice    60.  1.100 / 60.  1.100\n",
      "  libavfilter     9.  3.100 /  9.  3.100\n",
      "  libswscale      7.  1.100 /  7.  1.100\n",
      "  libswresample   4. 10.100 /  4. 10.100\n",
      "  libpostproc    57.  1.100 / 57.  1.100\n",
      "Input #0, image2, from 'out/pool_model/2023-11-28-17:51:00/*.png':\n",
      "  Duration: 00:00:13.37, start: 0.000000, bitrate: N/A\n",
      "  Stream #0:0: Video: png, rgba(pc), 1600x1600 [SAR 3937:3937 DAR 1:1], 30 fps, 30 tbr, 30 tbn\n",
      "Stream mapping:\n",
      "  Stream #0:0 -> #0:0 (png (native) -> h264 (libx264))\n",
      "Press [q] to stop, [?] for help\n",
      "[libx264 @ 0x557920053700] using SAR=1/1\n",
      "[libx264 @ 0x557920053700] using cpu capabilities: MMX2 SSE2Fast SSSE3 SSE4.2 AVX FMA3 BMI2 AVX2\n",
      "[libx264 @ 0x557920053700] profile High, level 5.0, 4:2:0, 8-bit\n",
      "[libx264 @ 0x557920053700] 264 - core 164 r3108 31e19f9 - H.264/MPEG-4 AVC codec - Copyleft 2003-2023 - http://www.videolan.org/x264.html - options: cabac=1 ref=3 deblock=1:0:0 analyse=0x3:0x113 me=hex subme=7 psy=1 psy_rd=1.00:0.00 mixed_ref=1 me_range=16 chroma_me=1 trellis=1 8x8dct=1 cqm=0 deadzone=21,11 fast_pskip=1 chroma_qp_offset=-2 threads=24 lookahead_threads=4 sliced_threads=0 nr=0 decimate=1 interlaced=0 bluray_compat=0 constrained_intra=0 bframes=3 b_pyramid=2 b_adapt=1 b_bias=0 direct=1 weightb=1 open_gop=0 weightp=2 keyint=250 keyint_min=25 scenecut=40 intra_refresh=0 rc_lookahead=40 rc=crf mbtree=1 crf=23.0 qcomp=0.60 qpmin=0 qpmax=69 qpstep=4 ip_ratio=1.40 aq=1:1.00\n",
      "Output #0, mp4, to 'out/pool_model/2023-11-28-17:51:00/amovie_4.mp4':\n",
      "  Metadata:\n",
      "    encoder         : Lavf60.3.100\n",
      "  Stream #0:0: Video: h264 (avc1 / 0x31637661), yuv420p(tv, progressive), 1600x1600 [SAR 1:1 DAR 1:1], q=2-31, 30 fps, 15360 tbn\n",
      "    Metadata:\n",
      "      encoder         : Lavc60.3.100 libx264\n",
      "    Side data:\n",
      "      cpb: bitrate max/min/avg: 0/0/0 buffer size: 0 vbv_delay: N/A\n",
      "frame=  401 fps=105 q=-1.0 Lsize=    2016kB time=00:00:13.26 bitrate=1245.1kbits/s speed=3.47x     \n",
      "video:2011kB audio:0kB subtitle:0kB other streams:0kB global headers:0kB muxing overhead: 0.276635%\n",
      "[libx264 @ 0x557920053700] frame I:3     Avg QP:14.24  size: 41521\n",
      "[libx264 @ 0x557920053700] frame P:102   Avg QP:17.05  size:  9792\n",
      "[libx264 @ 0x557920053700] frame B:296   Avg QP:24.22  size:  3159\n",
      "[libx264 @ 0x557920053700] consecutive B-frames:  1.2%  1.0%  0.0% 97.8%\n",
      "[libx264 @ 0x557920053700] mb I  I16..4: 53.1% 36.5% 10.4%\n",
      "[libx264 @ 0x557920053700] mb P  I16..4: 17.0% 24.2%  0.7%  P16..4:  4.0%  2.6%  1.1%  0.0%  0.0%    skip:50.3%\n",
      "[libx264 @ 0x557920053700] mb B  I16..4:  2.4%  2.2%  0.0%  B16..8:  8.0%  2.3%  0.3%  direct: 0.1%  skip:84.8%  L0:36.7% L1:53.4% BI: 9.8%\n",
      "[libx264 @ 0x557920053700] 8x8 transform intra:54.4% inter:46.2%\n",
      "[libx264 @ 0x557920053700] coded y,uvDC,uvAC intra: 1.3% 2.3% 1.9% inter: 0.9% 1.2% 1.1%\n",
      "[libx264 @ 0x557920053700] i16 v,h,dc,p: 88% 11%  1%  0%\n",
      "[libx264 @ 0x557920053700] i8 v,h,dc,ddl,ddr,vr,hd,vl,hu: 57%  9% 34%  0%  0%  0%  0%  0%  0%\n",
      "[libx264 @ 0x557920053700] i4 v,h,dc,ddl,ddr,vr,hd,vl,hu: 28% 19% 29%  5%  4%  4%  4%  4%  3%\n",
      "[libx264 @ 0x557920053700] i8c dc,h,v,p: 97%  2%  2%  0%\n",
      "[libx264 @ 0x557920053700] Weighted P-Frames: Y:25.5% UV:0.0%\n",
      "[libx264 @ 0x557920053700] ref P L0: 47.4% 14.7% 23.3% 12.1%  2.5%\n",
      "[libx264 @ 0x557920053700] ref B L0: 81.5% 15.3%  3.2%\n",
      "[libx264 @ 0x557920053700] ref B L1: 94.0%  6.0%\n",
      "[libx264 @ 0x557920053700] kb/s:1231.92\n"
     ]
    },
    {
     "data": {
      "text/plain": [
       "0"
      ]
     },
     "execution_count": 306,
     "metadata": {},
     "output_type": "execute_result"
    }
   ],
   "source": [
    "# Also create a movie with ffmpeg\n",
    "bashcmd = f\"ffmpeg -y -r 30 -f image2 -pattern_type glob -i '{output_path}/*.png' -c:v h264 -pix_fmt yuv420p -strict -2 {output_path}/amovie_4.mp4\"\n",
    "os.system(bashcmd)"
   ]
  }
 ],
 "metadata": {
  "kernelspec": {
   "display_name": ".venv",
   "language": "python",
   "name": "python3"
  },
  "language_info": {
   "codemirror_mode": {
    "name": "ipython",
    "version": 3
   },
   "file_extension": ".py",
   "mimetype": "text/x-python",
   "name": "python",
   "nbconvert_exporter": "python",
   "pygments_lexer": "ipython3",
   "version": "3.11.5"
  },
  "orig_nbformat": 4
 },
 "nbformat": 4,
 "nbformat_minor": 2
}
