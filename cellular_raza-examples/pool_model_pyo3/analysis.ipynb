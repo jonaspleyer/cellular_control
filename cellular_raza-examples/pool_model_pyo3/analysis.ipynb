{
 "cells": [
  {
   "cell_type": "markdown",
   "metadata": {},
   "source": [
    "## Get Results from old simulation\n",
    "To run a new simulation, execute the `run_sim.py` script.\n",
    "If the command below fails, you probably need to run a new simulation to generate data."
   ]
  },
  {
   "cell_type": "code",
   "execution_count": null,
   "metadata": {},
   "outputs": [],
   "source": [
    "# Specific imports for cellular_raza\n",
    "# The package is named cr_autophagy\n",
    "# We want to reload the package when some of the behind-the scenes python functions change\n",
    "# This is what the importlib statements are for\n",
    "import importlib\n",
    "import cr_pool_model as crp\n",
    "importlib.reload(crp)\n",
    "\n",
    "# Imports of general-purpose python libraries\n",
    "import numpy as np\n",
    "import matplotlib.pyplot as plt\n",
    "import os\n",
    "# from pathlib import Path\n",
    "\n",
    "output_path = crp.get_last_output_path()\n",
    "# output_path = Path(\"out/pool_model/2023-12-07-T01-53-41\")\n",
    "domain, initial_cells, meta_params = crp.get_simulation_settings(output_path)\n",
    "max_iter = max(crp.get_all_iterations(output_path))\n",
    "\n",
    "minutes = 60\n",
    "hours = 24"
   ]
  },
  {
   "cell_type": "code",
   "execution_count": null,
   "metadata": {},
   "outputs": [],
   "source": [
    "iter_0_particles = crp.get_elements_at_iter(output_path, 0)\n",
    "print(\"Name\".ljust(62), \"Type\")\n",
    "print(\"⎯\"*80)\n",
    "for ty, col in zip(iter_0_particles.dtypes, iter_0_particles.columns):\n",
    "    print(\"{}\".format(col).ljust(62), \"{}\".format(ty))"
   ]
  },
  {
   "cell_type": "code",
   "execution_count": null,
   "metadata": {},
   "outputs": [],
   "source": [
    "iter_0_voxels = crp.get_elements_at_iter(output_path, 0, element_path=\"voxel_storage\")\n",
    "print(\"Name\".ljust(62), \"Type\")\n",
    "print(\"⎯\"*80)\n",
    "for ty, col in zip(iter_0_voxels.dtypes, iter_0_voxels.columns):\n",
    "    print(\"{}\".format(col).ljust(62), \"{}\".format(ty))"
   ]
  },
  {
   "cell_type": "code",
   "execution_count": null,
   "metadata": {},
   "outputs": [],
   "source": [
    "all_iterations = crp.get_all_iterations(output_path)\n",
    "\n",
    "def analyze_voxel_data(output_path, iteration):\n",
    "    # Calculate total extracellular concentrations\n",
    "    entry = crp.get_elements_at_iter(output_path, iteration, element_path=\"voxel_storage\")\n",
    "    mi = np.array([x for x in entry[\"element.voxel.min\"]])\n",
    "    ma = np.array([x for x in entry[\"element.voxel.max\"]])\n",
    "    diff = np.abs(ma-mi)\n",
    "    conc = np.array([c for c in entry[\"element.voxel.extracellular_concentrations\"]])\n",
    "    volume = np.prod(diff, axis=1)\n",
    "    conc_total = np.sum(volume[:,None] * conc, axis=0)\n",
    "\n",
    "    return {\n",
    "        \"iteration\": iteration,\n",
    "        \"nutrients_conc_total\": conc_total[0],\n",
    "        \"inhib_total\": conc_total[1],\n",
    "    }\n",
    "\n",
    "def _analyze_voxel_data_helper(args):\n",
    "    return analyze_voxel_data(*args)\n",
    "\n",
    "def analyze_cell_data(output_path, iteration):\n",
    "    entry = crp.get_elements_at_iter(output_path, iteration)\n",
    "\n",
    "    # Calculate number of cells for species\n",
    "    bacteria_1 = entry[entry[\"element.cell.cellular_reactions.species\"]==\"S1\"]\n",
    "    bacteria_2 = entry[entry[\"element.cell.cellular_reactions.species\"]==\"S2\"]\n",
    "    bacteria_count_1 = len(bacteria_1)\n",
    "    bacteria_count_2 = len(bacteria_2)\n",
    "\n",
    "    # Calculate the number of bacteria in lag phase\n",
    "    bacteria_in_lag_phase_1 = len(bacteria_1[bacteria_1[\"element.cell.cellular_reactions.lag_phase_active\"]==True])\n",
    "    bacteria_in_lag_phase_2 = len(bacteria_2[bacteria_2[\"element.cell.cellular_reactions.lag_phase_active\"]==True])\n",
    "\n",
    "    # Calculate total intracellular concentrations\n",
    "    volume = np.pi*np.array([x for x in entry[\"element.cell.interaction.cell_radius\"]])**2\n",
    "    conc = np.array([x for x in entry[\"element.cell.cellular_reactions.intracellular_concentrations\"]])\n",
    "    conc_total = np.sum(volume[:,None] * conc, axis=0)\n",
    "\n",
    "    # Return combined results\n",
    "    return {\n",
    "        \"iteration\": iteration,\n",
    "        \"bacteria_count_1\": bacteria_count_1,\n",
    "        \"bacteria_count_2\": bacteria_count_2,\n",
    "        \"bacteria_count_total\": bacteria_count_1 + bacteria_count_2,\n",
    "        \"bacteria_in_lag_phase_1\": bacteria_in_lag_phase_1,\n",
    "        \"bacteria_in_lag_phase_2\": bacteria_in_lag_phase_2,\n",
    "        \"bacteria_in_lag_phase_total\": bacteria_in_lag_phase_1 + bacteria_in_lag_phase_2,\n",
    "        \"nutrients_conc_total\": conc_total[0],\n",
    "        \"inhib_conc_total\": conc_total[1],\n",
    "    }\n",
    "\n",
    "def _analyze_cell_data_helper(args):\n",
    "    return analyze_cell_data(*args)\n",
    "\n",
    "pool = crp.mp.Pool(30)\n",
    "\n",
    "args = [(output_path, iteration) for iteration in crp.get_all_iterations(output_path)]\n",
    "data_cells = crp.pd.DataFrame(crp.tqdm.tqdm(pool.imap_unordered(_analyze_cell_data_helper, args), total=len(args))).sort_values(\"iteration\").reset_index(drop=True)\n",
    "data_voxels = crp.pd.DataFrame(crp.tqdm.tqdm(pool.imap_unordered(_analyze_voxel_data_helper, args), total=len(args))).sort_values(\"iteration\").reset_index(drop=True)\n",
    "\n",
    "pool.close()\n",
    "pool.join()"
   ]
  },
  {
   "cell_type": "code",
   "execution_count": null,
   "metadata": {},
   "outputs": [],
   "source": [
    "fig, ax1 = plt.subplots()\n",
    "\n",
    "ax1.set_ylabel(\"Nutrient Amount\")\n",
    "data_voxels.plot(x=\"iteration\", y=\"nutrients_conc_total\", ax=ax1, label=\"Extracellular Nutrients\", color=\"black\")\n",
    "\n",
    "ax2 = ax1.twinx()\n",
    "data_cells.plot(x=\"iteration\", y=\"bacteria_count_1\", ax=ax2, label=\"Species 1\", color=\"#252B33\")\n",
    "data_cells.plot(x=\"iteration\", y=\"bacteria_count_2\", ax=ax2, label=\"Species 2\", color=\"#D14027\")\n",
    "# data_cells.plot(x=\"iteration\", y=\"\")\n",
    "data_cells.plot(x=\"iteration\", y=\"bacteria_count_total\", ax=ax2, label=\"Combined\", color=\"#A8AD26\")\n",
    "ax2.set_ylabel(\"Bacteria Count\")\n",
    "\n",
    "ax1.legend(loc=\"upper left\")\n",
    "ax2.legend(loc=\"upper right\")\n",
    "fig.savefig(f\"{output_path}/cell_growth.png\")\n",
    "plt.show(fig)\n",
    "plt.close(fig)"
   ]
  },
  {
   "cell_type": "markdown",
   "metadata": {},
   "source": [
    "## Cells transitioning from lag-phase"
   ]
  },
  {
   "cell_type": "code",
   "execution_count": null,
   "metadata": {},
   "outputs": [],
   "source": [
    "fig, ax = plt.subplots()\n",
    "ax.set_title(\"Cells in Lag-Phase\")\n",
    "ax.plot(data_cells[\"bacteria_in_lag_phase_1\"], label=\"Species 1\", color=\"#252B33\")\n",
    "ax.plot(data_cells[\"bacteria_in_lag_phase_2\"], label=\"Species 2\", color=\"#D14027\")\n",
    "ax.plot(data_cells[\"bacteria_in_lag_phase_1\"] + data_cells[\"bacteria_in_lag_phase_2\"], label=\"Combined\", color=\"#A8AD26\")\n",
    "ax.legend()\n",
    "ax.set_xlabel(\"Iteration\")\n",
    "ax.set_ylabel(\"Cells\")\n",
    "fig.savefig(f\"{output_path}/lag_phase.png\")\n",
    "plt.show(fig)"
   ]
  },
  {
   "cell_type": "markdown",
   "metadata": {},
   "source": [
    "## Generate Screenshots for every Iteration"
   ]
  },
  {
   "cell_type": "code",
   "execution_count": null,
   "metadata": {},
   "outputs": [],
   "source": [
    "# Save snapshots to local folder
    "crp.save_all_snapshots(output_path, threads=30)\n",
    "\n",
    "# Also create a movie with ffmpeg\n",
    "bashcmd = f\"ffmpeg -v quiet -stats -y -r 30 -f image2 -pattern_type glob -i '{output_path}/images/*.png' -c:v h264 -pix_fmt yuv420p -strict -2 {output_path}/movie_4.mp4\"\n",
    "os.system(bashcmd)"
   ]
  }
 ],
 "metadata": {
  "kernelspec": {
   "display_name": ".venv",
   "language": "python",
   "name": "python3"
  },
  "language_info": {
   "codemirror_mode": {
    "name": "ipython",
    "version": 3
   },
   "file_extension": ".py",
   "mimetype": "text/x-python",
   "name": "python",
   "nbconvert_exporter": "python",
   "pygments_lexer": "ipython3",
   "version": "3.11.6"
  },
  "orig_nbformat": 4
 },
 "nbformat": 4,
 "nbformat_minor": 2
}
